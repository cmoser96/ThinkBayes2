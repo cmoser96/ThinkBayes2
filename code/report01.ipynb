{
 "cells": [
  {
   "cell_type": "markdown",
   "metadata": {},
   "source": [
    "I would not like my problem and solution published"
   ]
  },
  {
   "cell_type": "markdown",
   "metadata": {},
   "source": [
    "# Report 1"
   ]
  },
  {
   "cell_type": "markdown",
   "metadata": {},
   "source": [
    "From http://study.com/academy/lesson/bayes-theorem-practice-problems.html\n",
    "\n",
    "Widgets are manufactured in three factories: A B and C. The proportion of defective widgets from each factory are as follows:\n",
    "\n",
    "Factory A: .01\n",
    "\n",
    "Factory B: .04\n",
    "\n",
    "Factory C: .02\n",
    "\n",
    "Factories A and B produce 30% of the widgets apiece, and the remaining 40% come from Factory C. Imagine that an upset customer returns a defective widget to your company. As the manager you need to figure out the probability of each factory producing a defective widget. Although we have three factories, not two, we can still use the basic form of Bayes' theorem, given that Z represents the event that a widget is defective."
   ]
  },
  {
   "cell_type": "code",
   "execution_count": 2,
   "metadata": {
    "collapsed": false
   },
   "outputs": [],
   "source": [
    "from __future__ import print_function, division\n",
    "\n",
    "%matplotlib inline\n",
    "\n",
    "import warnings\n",
    "warnings.filterwarnings('ignore')\n",
    "\n",
    "import math\n",
    "import numpy as np\n",
    "from scipy.special import gamma\n",
    "\n",
    "from thinkbayes2 import Pmf, Suite\n",
    "import thinkplot"
   ]
  },
  {
   "cell_type": "code",
   "execution_count": 3,
   "metadata": {
    "collapsed": false
   },
   "outputs": [
    {
     "name": "stdout",
     "output_type": "stream",
     "text": [
      "A 0.01\n",
      "B 0.04\n",
      "C 0.02\n"
     ]
    }
   ],
   "source": [
    "factories = Pmf(['A','B','C'])\n",
    "\n",
    "factories['A'] = .01\n",
    "factories['B'] = .04\n",
    "factories['C'] = .02\n",
    "\n",
    "factories.Print()"
   ]
  },
  {
   "cell_type": "code",
   "execution_count": 4,
   "metadata": {
    "collapsed": false
   },
   "outputs": [
    {
     "name": "stdout",
     "output_type": "stream",
     "text": [
      "A 0.3\n",
      "B 1.2\n",
      "C 0.8\n"
     ]
    }
   ],
   "source": [
    "factories['A'] *= 30\n",
    "factories['B'] *= 30\n",
    "factories['C'] *= 40\n",
    "\n",
    "factories.Print()"
   ]
  },
  {
   "cell_type": "code",
   "execution_count": 5,
   "metadata": {
    "collapsed": false
   },
   "outputs": [
    {
     "name": "stdout",
     "output_type": "stream",
     "text": [
      "A 0.130434782609\n",
      "B 0.521739130435\n",
      "C 0.347826086957\n"
     ]
    }
   ],
   "source": [
    "factories.Normalize()\n",
    "\n",
    "factories.Print()"
   ]
  },
  {
   "cell_type": "markdown",
   "metadata": {},
   "source": [
    "Suppose there are two full bowls of cookies. Bowl #1 has 10 chocolate chip and 30 plain cookies, while bowl #2 has 20 of each. Our friend Fred picks a bowl at random, and then picks a cookie at random. We may assume there is no reason to believe Fred treats one bowl differently from another, likewise for the cookies. The cookie turns out to be a plain one. How probable is it that Fred picked it out of Bowl #1?"
   ]
  },
  {
   "cell_type": "code",
   "execution_count": 6,
   "metadata": {
    "collapsed": false
   },
   "outputs": [
    {
     "name": "stdout",
     "output_type": "stream",
     "text": [
      "Bowl 1 0.6\n",
      "Bowl 2 0.4\n"
     ]
    }
   ],
   "source": [
    "cookies = Pmf(['Bowl 1', 'Bowl 2'])\n",
    "\n",
    "cookies[\"Bowl 1\"] *= .75\n",
    "cookies[\"Bowl 2\"] *= .5\n",
    "\n",
    "cookies.Normalize()\n",
    "cookies.Print()"
   ]
  },
  {
   "cell_type": "markdown",
   "metadata": {},
   "source": [
    "The blue M&M was introduced in 1995.  Before then, the color mix in a bag of plain M&Ms was (30% Brown, 20% Yellow, 20% Red, 10% Green, 10% Orange, 10% Tan).  Afterward it was (24% Blue , 20% Green, 16% Orange, 14% Yellow, 13% Red, 13% Brown). \n",
    "\n",
    "A friend of mine has two bags of M&Ms, and he tells me that one is from 1994 and one from 1996.  He won't tell me which is which, but he gives me one M&M from each bag.  One is yellow and one is green.  What is the probability that the yellow M&M came from the 1994 bag?"
   ]
  },
  {
   "cell_type": "code",
   "execution_count": 7,
   "metadata": {
    "collapsed": false
   },
   "outputs": [
    {
     "name": "stdout",
     "output_type": "stream",
     "text": [
      "1994 0.416666666667\n",
      "1996 0.583333333333\n"
     ]
    }
   ],
   "source": [
    "mm = Pmf([1994, 1996])\n",
    "\n",
    "mm[1994] *= .1*.2\n",
    "mm[1996] *= .2*.14\n",
    "\n",
    "mm.Normalize()\n",
    "mm.Print()"
   ]
  },
  {
   "cell_type": "markdown",
   "metadata": {},
   "source": [
    "Elvis Presley had a twin brother who died at birth.  What is the probability that Elvis was an identical twin?"
   ]
  },
  {
   "cell_type": "code",
   "execution_count": 8,
   "metadata": {
    "collapsed": false
   },
   "outputs": [
    {
     "name": "stdout",
     "output_type": "stream",
     "text": [
      "fraternal 0.851851851852\n",
      "identical 0.148148148148\n"
     ]
    }
   ],
   "source": [
    "twin = Pmf(dict(identical=8, fraternal=92))\n",
    "\n",
    "twin['identical'] *= 1\n",
    "twin['fraternal'] *= .5\n",
    "\n",
    "twin.Normalize()\n",
    "twin.Print()"
   ]
  },
  {
   "cell_type": "markdown",
   "metadata": {},
   "source": [
    "According to the CDC, \"Compared to nonsmokers, men who smoke are about 23 times more likely to develop lung cancer and women who smoke are about 13 times more likely.''\n",
    "If you learn that a woman has been diagnosed with lung cancer, and you know nothing else about her, what is the probability that she is a smoker?"
   ]
  },
  {
   "cell_type": "code",
   "execution_count": 9,
   "metadata": {
    "collapsed": false
   },
   "outputs": [
    {
     "name": "stdout",
     "output_type": "stream",
     "text": [
      "nonsmoker 0.281016442451\n",
      "smoker 0.718983557549\n"
     ]
    }
   ],
   "source": [
    "smoke = Pmf(dict(smoker=14.8, nonsmoker=75.2))\n",
    "\n",
    "smoke['smoker'] *= 13\n",
    "smoke['nonsmoker'] *= 1\n",
    "\n",
    "smoke.Normalize()\n",
    "smoke.Print()"
   ]
  },
  {
   "cell_type": "markdown",
   "metadata": {},
   "source": [
    "Suppose you are on Let's Make a Deal and you are playing the Monty Hall Game, with one twist.  Before you went on the show you analyzed tapes of previous shows and discovered that Monty has a tell: when the contestant picks the correct door, Monty is more likely to blink.\n",
    "\n",
    "Of the 18 shows you watched, the contestant chose the correct door 5 times, and Monty blinked three of those times.  Of the other 13 times, Monty blinked three times. \n",
    "\n",
    "Assume that you choose Door A.  Monty opens door B and blinks.  What should you do, and what is your chance of winning?\n"
   ]
  },
  {
   "cell_type": "code",
   "execution_count": 10,
   "metadata": {
    "collapsed": false
   },
   "outputs": [
    {
     "name": "stdout",
     "output_type": "stream",
     "text": [
      "a 0.333333333333333*p/(0.333333333333333*p + 0.333333333333333)\n",
      "b 0\n",
      "c 0.333333333333333/(0.333333333333333*p + 0.333333333333333)\n"
     ]
    }
   ],
   "source": [
    "from sympy import symbols\n",
    "p = symbols('p')\n",
    "\n",
    "door = Pmf(['a', 'b', 'c'])\n",
    "\n",
    "door['a'] *= p\n",
    "door['b'] *= 0\n",
    "door['c'] *= 1\n",
    "\n",
    "door.Normalize()\n",
    "door.Print()"
   ]
  },
  {
   "cell_type": "markdown",
   "metadata": {
    "collapsed": true
   },
   "source": [
    "## If a person begins to type a word that begins with the letter 't', what are the chances that the next letter will be a vowel?"
   ]
  },
  {
   "cell_type": "markdown",
   "metadata": {},
   "source": [
    "To get started with this problem, it would be good to create a helper function that would search for all words that start with certain letters. I will be using the word list that is included in Ubuntu and a regular expresion."
   ]
  },
  {
   "cell_type": "code",
   "execution_count": 148,
   "metadata": {
    "collapsed": true
   },
   "outputs": [],
   "source": [
    "import re\n",
    "\n",
    "def search_words(letters):\n",
    "    words = open('/usr/share/dict/words', 'r')\n",
    "    s = \"\"\n",
    "    for word in words:\n",
    "        s += word.lower()\n",
    "    x = re.findall(r'\\b'+letters+'\\w+', s)\n",
    "    words.close()\n",
    "    return set(x)"
   ]
  },
  {
   "cell_type": "markdown",
   "metadata": {},
   "source": [
    "Now we can get started on the problem and define our hypotheses based on our prior knowledge\n",
    "\n",
    "Our hypotheses are:\n",
    "* the next letter is a vowel\n",
    "* the next letter is a consonant\n",
    "\n",
    "There are 6 vowels and 26 letters so the probabilities for our hypotheses are:\n",
    "* the next letter is a vowel has a probability of 6/26\n",
    "* the next letter is a consonant has a probability of 20/26"
   ]
  },
  {
   "cell_type": "code",
   "execution_count": 149,
   "metadata": {
    "collapsed": true
   },
   "outputs": [],
   "source": [
    "probability_vowel = 6/26\n",
    "probability_consonant = 20/26"
   ]
  },
  {
   "cell_type": "markdown",
   "metadata": {},
   "source": [
    "Next, we can class letter_prediction that inherits from Suite. Since it is a Suite, we have to define the Likelihood function which is called when the Update function is used. The Update function calls the Likelihood function for each hypothesis.\n",
    "\n",
    "* When the hypothesis is that the next letter is a vowel and the next letter is a vowel, we want the probability to increase.\n",
    "* When the hypothesis is that the next letter is a consonant and the next letter is a consonant, we want the probablity to increase.\n",
    "\n",
    "From this, we can write an if-elif statement based on the above points. It is in a for loop to go through the list of words that is passed in. To finish it, we should put it in a try-except statement in case there are words that are shorter than the letter position that we want to check."
   ]
  },
  {
   "cell_type": "code",
   "execution_count": 150,
   "metadata": {
    "collapsed": false
   },
   "outputs": [],
   "source": [
    "class letter_prediction(Suite):\n",
    "    def Likelihood(self, data, hypo):\n",
    "        words, letters, position = data\n",
    "        probability = 0\n",
    "        for word in words:\n",
    "            try:\n",
    "                if word[position] in letters and hypo == 'vowel':\n",
    "                    probability += 1\n",
    "                elif word[position] not in letters and hypo == 'consonant':\n",
    "                    probability += 1\n",
    "            except:\n",
    "                pass\n",
    "        return probability/len(words)"
   ]
  },
  {
   "cell_type": "markdown",
   "metadata": {},
   "source": [
    "With the class defined, we can create a prediction object with our hypotheses."
   ]
  },
  {
   "cell_type": "code",
   "execution_count": 151,
   "metadata": {
    "collapsed": false
   },
   "outputs": [
    {
     "name": "stdout",
     "output_type": "stream",
     "text": [
      "consonant 0.769230769231\n",
      "vowel 0.230769230769\n"
     ]
    }
   ],
   "source": [
    "prediction = letter_prediction(dict(vowel = probability_vowel, consonant = probability_consonant))\n",
    "prediction.Print()"
   ]
  },
  {
   "cell_type": "markdown",
   "metadata": {},
   "source": [
    "We can define the words that start with 't' by using the function that we wrote earlier.\n",
    "\n",
    "At the same time, we can define the letters that we are searching for as vowels. For now, I will consider *y* to be a vowel."
   ]
  },
  {
   "cell_type": "code",
   "execution_count": 152,
   "metadata": {
    "collapsed": false
   },
   "outputs": [],
   "source": [
    "search = 't'\n",
    "words = search_words(search)\n",
    "vowels = 'aeiouy'"
   ]
  },
  {
   "cell_type": "markdown",
   "metadata": {
    "collapsed": true
   },
   "source": [
    "We can then update the prediction based on the set of words we have, the letters that we are looking for, and the position of the next letter in the word. "
   ]
  },
  {
   "cell_type": "code",
   "execution_count": 153,
   "metadata": {
    "collapsed": false
   },
   "outputs": [
    {
     "name": "stdout",
     "output_type": "stream",
     "text": [
      "consonant 0.693825887206\n",
      "vowel 0.306174112794\n"
     ]
    }
   ],
   "source": [
    "search = 't'\n",
    "words = search_words(search)\n",
    "vowels = 'aeiouy'\n",
    "\n",
    "prediction.Update((words, vowels, len(search)))\n",
    "\n",
    "prediction.Print()"
   ]
  },
  {
   "cell_type": "markdown",
   "metadata": {},
   "source": [
    "The probability  that the next letter is a vowel is about 30.6%\n",
    "\n",
    "We can also see how the probability changes is if we consider *y* to be a consonant.\n",
    "\n",
    "For this we need to redefine our probabilities and vowel string:\n",
    "* the next letter is a vowel has a probability of 5/26\n",
    "* the next letter is a consonant has a probability of 21/26"
   ]
  },
  {
   "cell_type": "code",
   "execution_count": 154,
   "metadata": {
    "collapsed": false
   },
   "outputs": [
    {
     "name": "stdout",
     "output_type": "stream",
     "text": [
      "consonant 0.757338823475\n",
      "vowel 0.242661176525\n"
     ]
    }
   ],
   "source": [
    "probability_vowel = 5/26\n",
    "probability_consonant = 21/26\n",
    "\n",
    "prediction = letter_prediction(dict(vowel = probability_vowel, consonant = probability_consonant))\n",
    "vowels = 'aeiou'\n",
    "prediction.Update((words, vowels, len(search)))\n",
    "\n",
    "prediction.Print()"
   ]
  },
  {
   "cell_type": "markdown",
   "metadata": {},
   "source": [
    "The percentage goes down from 30.6% to about 24.3% when *y* is not considered a vowel. The letter_prediction class could be used to predict the chances of the next letter in a word being a vowel given some starting characters."
   ]
  },
  {
   "cell_type": "code",
   "execution_count": null,
   "metadata": {
    "collapsed": true
   },
   "outputs": [],
   "source": []
  }
 ],
 "metadata": {
  "kernelspec": {
   "display_name": "Python [Root]",
   "language": "python",
   "name": "Python [Root]"
  },
  "language_info": {
   "codemirror_mode": {
    "name": "ipython",
    "version": 2
   },
   "file_extension": ".py",
   "mimetype": "text/x-python",
   "name": "python",
   "nbconvert_exporter": "python",
   "pygments_lexer": "ipython2",
   "version": "2.7.12"
  }
 },
 "nbformat": 4,
 "nbformat_minor": 0
}
