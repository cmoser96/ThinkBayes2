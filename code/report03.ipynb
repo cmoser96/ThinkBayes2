{
 "cells": [
  {
   "cell_type": "markdown",
   "metadata": {
    "collapsed": true
   },
   "source": [
    "# Report 3 - Carl Moser"
   ]
  },
  {
   "cell_type": "markdown",
   "metadata": {},
   "source": [
    "# Project Ideas\n",
    "\n",
    "Some project ideas that I am interested in working on:\n",
    "\n",
    "- Election prediction based on data mining from news sources or social media\n",
    "- Expanding on my first report problem and doing some sort of word prediction"
   ]
  },
  {
   "cell_type": "code",
   "execution_count": 56,
   "metadata": {
    "collapsed": false
   },
   "outputs": [],
   "source": [
    "from __future__ import print_function, division\n",
    "\n",
    "% matplotlib inline\n",
    "import warnings\n",
    "warnings.filterwarnings('ignore')\n",
    "\n",
    "import math\n",
    "import numpy as np\n",
    "from scipy import stats\n",
    "from scipy.special import binom\n",
    "\n",
    "from thinkbayes2 import Pmf, Cdf, Suite, Joint, Beta, MakeBinomialPmf\n",
    "import thinkplot"
   ]
  },
  {
   "cell_type": "markdown",
   "metadata": {},
   "source": [
    "## The rain problem\n",
    "\n",
    "You're about to get on a plane to Seattle. You want to know if you should bring an umbrella. You call 3 random friends of yours who live there and ask each independently if it's raining. Each of your friends has a 2/3 chance of telling you the truth and a 1/3 chance of messing with you by lying. All 3 friends tell you that \"Yes\" it is raining. What is the probability that it's actually raining in Seattle? "
   ]
  },
  {
   "cell_type": "code",
   "execution_count": 91,
   "metadata": {
    "collapsed": false
   },
   "outputs": [
    {
     "name": "stdout",
     "output_type": "stream",
     "text": [
      "not_raining 0.5464414957780458\n",
      "raining 0.4535585042219541\n"
     ]
    }
   ],
   "source": [
    "seattle = Pmf({'raining': 9.4, 'not_raining': 90.6})\n",
    "seattle['raining'] *= (2/3)**3\n",
    "seattle['not_raining'] *= (1/3)**3\n",
    "seattle.Normalize()\n",
    "seattle.Print()"
   ]
  },
  {
   "cell_type": "code",
   "execution_count": null,
   "metadata": {
    "collapsed": true
   },
   "outputs": [],
   "source": []
  },
  {
   "cell_type": "markdown",
   "metadata": {},
   "source": [
    "## Gluten allergy\n",
    "From: [This study from 2015](http://onlinelibrary.wiley.com/doi/10.1111/apt.13372/full) showed that many subjects diagnosed with non-celiac gluten sensitivity (NCGS) were not able to distinguish gluten flour from non-gluten flour in a blind challenge.\n",
    "\n",
    "Here is a description of the study:\n",
    "\n",
    ">\"We studied 35 non-CD subjects (31 females) that were on a gluten-free diet (GFD), in a double-blind challenge study. Participants were randomised to receive either gluten-containing ﬂour or gluten-free ﬂour for 10 days, followed by a 2-week washout period and were then crossed over. The main outcome measure was their ability to identify which ﬂour contained gluten.\n",
    ">\"The gluten-containing ﬂour was correctly identiﬁed by 12 participants (34%)...\"\n",
    "Since 12 out of 35 participants were able to identify the gluten flour, the authors conclude \"Double-blind gluten challenge induces symptom recurrence in just one-third of patients fulﬁlling the clinical diagnostic criteria for non-coeliac gluten sensitivity.\"\n",
    "\n",
    "This conclusion seems odd to me, because if none of the patients were sensitive to gluten, we would expect some of them to identify the gluten flour by chance.  So the results are consistent with the hypothesis that none of the subjects are actually gluten sensitive.\n",
    "\n",
    "We can use a Bayesian approach to interpret the results more precisely.  But first we have to make some modeling decisions.\n",
    "\n",
    "1. Of the 35 subjects, 12 identified the gluten flour based on resumption of symptoms while they were eating it.  Another 17 subjects wrongly identified the gluten-free flour based on their symptoms, and 6 subjects were unable to distinguish.  So each subject gave one of three responses.  To keep things simple I follow the authors of the study and lump together the second two groups; that is, I consider two groups: those who identified the gluten flour and those who did not.\n",
    "\n",
    "2. I assume (1) people who are actually gluten sensitive have a 95% chance of correctly identifying gluten flour under the challenge conditions, and (2) subjects who are not gluten sensitive have only a 40% chance of identifying the gluten flour by chance (and a 60% chance of either choosing the other flour or failing to distinguish).\n",
    "\n",
    "Using this model, estimate the number of study participants who are sensitive to gluten.  What is the most likely number?  What is the 95% credible interval?"
   ]
  },
  {
   "cell_type": "code",
   "execution_count": 68,
   "metadata": {
    "collapsed": true
   },
   "outputs": [],
   "source": [
    "correct = 12\n",
    "incorrect = 17\n",
    "indistinguishable = 6\n",
    "\n",
    "t_correct = correct\n",
    "t_incorrect = incorrect + indistinguishable\n",
    "t_participants = t_correct + t_incorrect"
   ]
  },
  {
   "cell_type": "code",
   "execution_count": 80,
   "metadata": {
    "collapsed": true
   },
   "outputs": [],
   "source": [
    "class Gluten_study(Suite):\n",
    "    def Likelihood(self, data, hypo):\n",
    "        '''\n",
    "        Computes the likelihood of the data\n",
    "        \n",
    "        data: correct, incorrect\n",
    "            correct: the number of people who correctly guessed the flour\n",
    "            incorrect: the number of people who incorrectly guessed or who could't decide\n",
    "            participants: the number of people who participated in the survey\n",
    "        hypo: The number of gluten sensitive people in the study\n",
    "        '''\n",
    "        correct, incorrect, participants = data\n",
    "        gluten_sensitive = hypo\n",
    "        non_gluten_sensitive = participants - gluten_sensitive\n",
    "\n",
    "        pmf1 = MakeBinomialPmf(gluten_sensitive, 0.95)\n",
    "        pmf2 = MakeBinomialPmf(non_gluten_sensitive, 0.4)\n",
    "        \n",
    "        pmf = pmf1 + pmf2\n",
    "        return pmf[correct]"
   ]
  },
  {
   "cell_type": "code",
   "execution_count": 81,
   "metadata": {
    "collapsed": false
   },
   "outputs": [],
   "source": [
    "participants = range(0, t_participants+1)\n",
    "gs = Gluten_study(participants)"
   ]
  },
  {
   "cell_type": "code",
   "execution_count": 84,
   "metadata": {
    "collapsed": false
   },
   "outputs": [
    {
     "data": {
      "image/png": "[encoded data removed]",
      "text/plain": [
       "<matplotlib.figure.Figure at 0x1ebe37f0>"
      ]
     },
     "metadata": {},
     "output_type": "display_data"
    }
   ],
   "source": [
    "gs.Update((correct, incorrect, t_participants))\n",
    "thinkplot.Pdf(gs)"
   ]
  },
  {
   "cell_type": "code",
   "execution_count": 85,
   "metadata": {
    "collapsed": false
   },
   "outputs": [
    {
     "name": "stdout",
     "output_type": "stream",
     "text": [
      "Credible interval:  (0, 5)\n"
     ]
    }
   ],
   "source": [
    "print(\"Credible interval: \", gs.CredibleInterval(95))"
   ]
  },
  {
   "cell_type": "markdown",
   "metadata": {},
   "source": [
    "## Bugfinder\n",
    "From [John D. Cook](http://www.johndcook.com/blog/2010/07/13/lincoln-index/)\n",
    "\n",
    "\"Suppose you have a tester who finds 20 bugs in your program. You want to estimate how many bugs are really in the program. You know there are at least 20 bugs, and if you have supreme confidence in your tester, you may suppose there are around 20 bugs. But maybe your tester isn't very good. Maybe there are hundreds of bugs. How can you have any idea how many bugs there are? There’s no way to know with one tester. But if you have two testers, you can get a good idea, even if you don’t know how skilled the testers are.\n",
    "\n",
    "Suppose two testers independently search for bugs. Let k1 be the number of errors the first tester finds and k2 the number of errors the second tester finds. Let c be the number of errors both testers find.  The Lincoln Index estimates the total number of errors as k1 k2 / c [I changed his notation to be consistent with mine].\"\n",
    "\n",
    "So if the first tester finds 20 bugs, the second finds 15, and they find 3 in common, we estimate that there are about 100 bugs.  What is the Bayesian estimate of the number of errors based on this data?"
   ]
  },
  {
   "cell_type": "markdown",
   "metadata": {},
   "source": [
    "To start, we can define the number of bugs that each of the programmers found and how many of those were in common."
   ]
  },
  {
   "cell_type": "code",
   "execution_count": 37,
   "metadata": {
    "collapsed": false
   },
   "outputs": [],
   "source": [
    "num_p1 = 20\n",
    "num_p2 = 15\n",
    "num_c = 3"
   ]
  },
  {
   "cell_type": "markdown",
   "metadata": {},
   "source": [
    "Next, we can estimate the total number of bugs using the Lincoln index\n",
    "\n",
    "(num_p1)(num_p2)/num_c"
   ]
  },
  {
   "cell_type": "code",
   "execution_count": 38,
   "metadata": {
    "collapsed": false
   },
   "outputs": [
    {
     "data": {
      "text/plain": [
       "100.0"
      ]
     },
     "execution_count": 38,
     "metadata": {},
     "output_type": "execute_result"
    }
   ],
   "source": [
    "num_p1*num_p2/num_c"
   ]
  },
  {
   "cell_type": "markdown",
   "metadata": {},
   "source": [
    "We see that the estimated number of bugs is about 100. We can take this problem further and do the Bayesian estimate of the number of errors. First, we can create a class that inherits from Suite and Joint. Then, we can define the Likelihood function. For this iteration of the likelihood function, I decided to just use stats.binom.pmf for now to see what the mean number of bugs looks like without the binomial coefficients."
   ]
  },
  {
   "cell_type": "code",
   "execution_count": 39,
   "metadata": {
    "collapsed": true
   },
   "outputs": [],
   "source": [
    "class Bugfinder(Suite, Joint):\n",
    "    def __init__(self, n, p1, p2):\n",
    "        '''\n",
    "        Makes a joint suite of parameters n, p1, p2\n",
    "\n",
    "        n: possible number of bugs\n",
    "        p1: the probability that programmer1 will find a bug\n",
    "        p1: The probability that programmer 2 will find a bug\n",
    "        '''\n",
    "        trips = [(num, a1, a2)\n",
    "                 for num in n\n",
    "                 for a1 in p1 \n",
    "                 for a2 in p2]\n",
    "        \n",
    "        Suite.__init__(self, trips)\n",
    "        \n",
    "    def Likelihood(self, data, hypo):\n",
    "        '''\n",
    "        k1, k2, c = data\n",
    "        n, p1, p2 = hypo\n",
    "        \n",
    "        k1: The number of bugs that programmer 1 found\n",
    "        k2: The number of bugs that programmer 2 found\n",
    "        c:  The number of bugs that they found in common\n",
    "        '''\n",
    "        k1, k2, c = data\n",
    "        n, p1, p2 = hypo\n",
    "        \n",
    "        like1 = stats.binom.pmf(k1, n, p1)\n",
    "        like2 = stats.binom.pmf(k2, n, p2)\n",
    "        \n",
    "        return like1 * like2"
   ]
  },
  {
   "cell_type": "markdown",
   "metadata": {},
   "source": [
    "We can then create arrays of the number of possible bugs, the probability that programmer 1 will find a bug, and the probability that programmer 2 will find a bug."
   ]
  },
  {
   "cell_type": "code",
   "execution_count": 40,
   "metadata": {
    "collapsed": true
   },
   "outputs": [],
   "source": [
    "n = np.linspace(0, 400)\n",
    "p1 = np.linspace(0,1,101)\n",
    "p2 = np.linspace(0,1,101)"
   ]
  },
  {
   "cell_type": "code",
   "execution_count": 41,
   "metadata": {
    "collapsed": false
   },
   "outputs": [
    {
     "data": {
      "text/plain": [
       "0.00010496169139310961"
      ]
     },
     "execution_count": 41,
     "metadata": {},
     "output_type": "execute_result"
    }
   ],
   "source": [
    "b = Bugfinder(n, p1, p2)\n",
    "b.Update((20,15,3))"
   ]
  },
  {
   "cell_type": "code",
   "execution_count": 48,
   "metadata": {
    "collapsed": false
   },
   "outputs": [
    {
     "name": "stdout",
     "output_type": "stream",
     "text": [
      "Mean number of bugs:  nan\n"
     ]
    },
    {
     "data": {
      "image/png": "[encoded data removed]",
      "text/plain": [
       "<matplotlib.figure.Figure at 0x1f68e6d8>"
      ]
     },
     "metadata": {},
     "output_type": "display_data"
    }
   ],
   "source": [
    "thinkplot.Pdf(b.Marginal(0))\n",
    "thinkplot.Config(xlabel = \"Number of bugs 'n'\", ylabel = \"PMF\")\n",
    "print(\"Mean number of bugs: \", b.Marginal(0).Mean())"
   ]
  },
  {
   "cell_type": "markdown",
   "metadata": {},
   "source": [
    "Now we can go ahead and calculate the coefficients for like1 and like1 and put those in the likelihood function to take into account c."
   ]
  },
  {
   "cell_type": "code",
   "execution_count": 43,
   "metadata": {
    "collapsed": true
   },
   "outputs": [],
   "source": [
    "class Bugfinder(Suite, Joint):\n",
    "    def __init__(self, n, p1, p2):\n",
    "        '''\n",
    "        Makes a joint suite of parameters n, p1, p2\n",
    "\n",
    "        n: possible number of bugs\n",
    "        p1: the probability that programmer1 will find a bug\n",
    "        p1: The probability that programmer 2 will find a bug\n",
    "        '''\n",
    "        trips = [(num, a1, a2)\n",
    "                 for num in n\n",
    "                 for a1 in p1 \n",
    "                 for a2 in p2]\n",
    "        \n",
    "        Suite.__init__(self, trips)\n",
    "        \n",
    "    def Likelihood(self, data, hypo):\n",
    "        '''\n",
    "        k1, k2, c = data\n",
    "        n, p1, p2 = hypo\n",
    "        \n",
    "        k1: The number of bugs that programmer 1 found\n",
    "        k2: The number of bugs that programmer 2 found\n",
    "        c:  The number of bugs that they found in common\n",
    "        '''\n",
    "        k1, k2, c = data\n",
    "        n, p1, p2 = hypo\n",
    "        \n",
    "        coefficient_1 = binom(n, k1) # The k1 number of unordered outcomes from n number of bugs\n",
    "        coefficient_2 = binom(k1, c) * binom(n-k1, k2-c) # The c number of unordered outcomes from k1 number of found bugs\n",
    "                                                         # The \n",
    "        \n",
    "        like1 = coefficient_1 * stats.binom.pmf(k1, n, p1)\n",
    "        like2 = coefficient_2 * stats.binom.pmf(k2, n, p2)\n",
    "        \n",
    "        return like1 * like2"
   ]
  },
  {
   "cell_type": "code",
   "execution_count": 46,
   "metadata": {
    "collapsed": false
   },
   "outputs": [
    {
     "data": {
      "text/plain": [
       "nan"
      ]
     },
     "execution_count": 46,
     "metadata": {},
     "output_type": "execute_result"
    }
   ],
   "source": [
    "b = Bugfinder(n, p1, p2)\n",
    "b.Update((20,15,3))"
   ]
  },
  {
   "cell_type": "code",
   "execution_count": 45,
   "metadata": {
    "collapsed": false
   },
   "outputs": [
    {
     "name": "stdout",
     "output_type": "stream",
     "text": [
      "Mean number of bugs:  nan\n"
     ]
    },
    {
     "data": {
      "image/png": "[encoded data removed]",
      "text/plain": [
       "<matplotlib.figure.Figure at 0x14018a90>"
      ]
     },
     "metadata": {},
     "output_type": "display_data"
    }
   ],
   "source": [
    "thinkplot.Pdf(b.Marginal(0))\n",
    "thinkplot.Config(xlabel = \"Number of bugs 'n'\", ylabel = \"PMF\")\n",
    "print(\"Mean number of bugs: \", b.Marginal(0).Mean())"
   ]
  },
  {
   "cell_type": "raw",
   "metadata": {},
   "source": [
    "From this, we can see that "
   ]
  },
  {
   "cell_type": "markdown",
   "metadata": {},
   "source": [
    "## Original Problem\n"
   ]
  },
  {
   "cell_type": "code",
   "execution_count": null,
   "metadata": {
    "collapsed": true
   },
   "outputs": [],
   "source": [
    "Novak = [7,7,6,10,6,6]\n",
    "Roger = [6,1,7,12,4,3]"
   ]
  }
 ],
 "metadata": {
  "anaconda-cloud": {},
  "kernelspec": {
   "display_name": "Python [default]",
   "language": "python",
   "name": "python3"
  },
  "language_info": {
   "codemirror_mode": {
    "name": "ipython",
    "version": 3
   },
   "file_extension": ".py",
   "mimetype": "text/x-python",
   "name": "python",
   "nbconvert_exporter": "python",
   "pygments_lexer": "ipython3",
   "version": "3.5.2"
  }
 },
 "nbformat": 4,
 "nbformat_minor": 1
}
